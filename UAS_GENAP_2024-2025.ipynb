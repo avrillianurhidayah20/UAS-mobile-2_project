{
  "nbformat": 4,
  "nbformat_minor": 0,
  "metadata": {
    "colab": {
      "provenance": [],
      "toc_visible": true,
      "include_colab_link": true
    },
    "kernelspec": {
      "name": "python3",
      "display_name": "Python 3"
    },
    "language_info": {
      "name": "python"
    }
  },
  "cells": [
    {
      "cell_type": "markdown",
      "metadata": {
        "id": "view-in-github",
        "colab_type": "text"
      },
      "source": [
        "<a href=\"https://colab.research.google.com/github/avrillianurhidayah20/UAS-mobile-2_project/blob/main/UAS_GENAP_2024-2025.ipynb\" target=\"_parent\"><img src=\"https://colab.research.google.com/assets/colab-badge.svg\" alt=\"Open In Colab\"/></a>"
      ]
    },
    {
      "cell_type": "markdown",
      "source": [
        "\n",
        "```\n",
        "# UJIAN AKHIR SEMESTER\n",
        "```\n",
        "\n",
        "# Heart Failure Prediction - KNN Model\n",
        "### Tugas dipresentasikan melalui channel youtube\n",
        "### Link youtube upload di ecampus sesi-16"
      ],
      "metadata": {
        "id": "nfXY8nAwyKdX"
      }
    },
    {
      "cell_type": "markdown",
      "source": [
        "## Dataset Loading"
      ],
      "metadata": {
        "id": "Tpspx62UySz_"
      }
    },
    {
      "cell_type": "code",
      "execution_count": 2,
      "metadata": {
        "id": "Ju9sE4VbyBhs"
      },
      "outputs": [],
      "source": [
        "import pandas as pd\n",
        "ffile=\"https://raw.githubusercontent.com/asepmuhidin/MK-Data-Mining-UPB/refs/heads/main/dataset/heart.csv\""
      ]
    },
    {
      "cell_type": "code",
      "source": [],
      "metadata": {
        "id": "YBLnncaYgfYy"
      },
      "execution_count": null,
      "outputs": []
    },
    {
      "cell_type": "code",
      "source": [],
      "metadata": {
        "id": "4uC6Ol7qgfpO"
      },
      "execution_count": null,
      "outputs": []
    },
    {
      "cell_type": "code",
      "source": [
        "import pandas as pd\n",
        "ffile=\"https://raw.githubusercontent.com/asepmuhidin/MK-Data-Mining-UPB/refs/heads/main/dataset/heart.csv\""
      ],
      "metadata": {
        "id": "UaxM1vRygf7X"
      },
      "execution_count": 5,
      "outputs": []
    },
    {
      "cell_type": "markdown",
      "source": [
        "## Features Descriptions\n",
        "### Jelaskan setiap kolom, apa maksud kolom tersebut"
      ],
      "metadata": {
        "id": "92-AvqfjUS7M"
      }
    },
    {
      "cell_type": "markdown",
      "source": [
        "## Preprocessing\n",
        "### Penanganan nilai null dan feature yang tidak relevan(jika ada)"
      ],
      "metadata": {
        "id": "OEWJ-m2Myuj2"
      }
    },
    {
      "cell_type": "markdown",
      "source": [
        "## Feature and  Label(Class) Splitting"
      ],
      "metadata": {
        "id": "zMpNxMO34W3k"
      }
    },
    {
      "cell_type": "markdown",
      "source": [
        "## Train- Test Data Splitting"
      ],
      "metadata": {
        "id": "vEcaHo7f60zT"
      }
    },
    {
      "cell_type": "markdown",
      "source": [
        "## KNN Simple Modeling"
      ],
      "metadata": {
        "id": "l336mGC17FhC"
      }
    },
    {
      "cell_type": "markdown",
      "source": [
        "## Evaluation Model"
      ],
      "metadata": {
        "id": "X6CfYW9D7Tvy"
      }
    },
    {
      "cell_type": "markdown",
      "source": [
        "## Improve with Cross Validation Score"
      ],
      "metadata": {
        "id": "xNoz2dFY8a_y"
      }
    },
    {
      "cell_type": "markdown",
      "source": [
        "## Improve with StandarScaler"
      ],
      "metadata": {
        "id": "aGoLTT69mN5f"
      }
    },
    {
      "cell_type": "markdown",
      "source": [
        "## Improve With Tuning Parameter"
      ],
      "metadata": {
        "id": "Dje9U57ET4PP"
      }
    }
  ]
}